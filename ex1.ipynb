{
 "cells": [
  {
   "cell_type": "code",
   "execution_count": 1,
   "metadata": {
    "collapsed": true
   },
   "outputs": [],
   "source": [
    "def classify(x):\n",
    "    solutions = ''\n",
    "    if x[0] == 'yes':\n",
    "        if float(x[1])  < 29.5:\n",
    "            solutions = 'less'\n",
    "        elif float(x[1])  > 29.5:\n",
    "            solutions = 'more'\n",
    "    else:\n",
    "        if x[2] == 'good':\n",
    "            solutions = 'less'\n",
    "        elif x[2] == 'poor':\n",
    "            solutions = 'more'\n",
    "    return solutions\n",
    "        \n",
    "        \n",
    "        "
   ]
  },
  {
   "cell_type": "code",
   "execution_count": 2,
   "metadata": {},
   "outputs": [
    {
     "name": "stdout",
     "output_type": "stream",
     "text": [
      "(('yes', 31, 'good'), 'more')\n"
     ]
    }
   ],
   "source": [
    "x= ('yes',  31,  'good') \n",
    "\n",
    "print((x,classify (x)))"
   ]
  },
  {
   "cell_type": "code",
   "execution_count": 3,
   "metadata": {},
   "outputs": [
    {
     "name": "stdout",
     "output_type": "stream",
     "text": [
      "[('yes', '21', 'poor'), ('no', '50', 'good'), ('no', '23', 'good'), ('yes', '45', 'poor'), ('yes', '51', 'good'), ('no', '60', 'good'), ('no', '15', 'poor'), ('no', '18', 'good')]\n"
     ]
    }
   ],
   "source": [
    "data = []\n",
    "for line in open('health-test.txt'):\n",
    "  data.append(tuple(line.strip().split(',')))\n",
    "print(data)"
   ]
  },
  {
   "cell_type": "code",
   "execution_count": 4,
   "metadata": {},
   "outputs": [
    {
     "name": "stdout",
     "output_type": "stream",
     "text": [
      "['less', 'less', 'less', 'more', 'more', 'less', 'more', 'less']\n"
     ]
    }
   ],
   "source": [
    "results = []\n",
    "for x in data:\n",
    "    results = results + [classify(x)]\n",
    "print(results)\n"
   ]
  },
  {
   "cell_type": "code",
   "execution_count": 5,
   "metadata": {},
   "outputs": [
    {
     "data": {
      "text/plain": [
       "0.375"
      ]
     },
     "execution_count": 5,
     "metadata": {},
     "output_type": "execute_result"
    }
   ],
   "source": [
    "count = 0\n",
    "for r in results:\n",
    "    if r == 'more':\n",
    "        count = count + 1\n",
    "count/len(results)\n",
    "    "
   ]
  },
  {
   "cell_type": "code",
   "execution_count": 6,
   "metadata": {},
   "outputs": [
    {
     "data": {
      "text/plain": [
       "[(('yes', 54, 'good'), 'less'),\n",
       " (('no', 55, 'good'), 'less'),\n",
       " (('no', 26, 'good'), 'less'),\n",
       " (('yes', 40, 'good'), 'more'),\n",
       " (('yes', 25, 'poor'), 'less'),\n",
       " (('no', 13, 'poor'), 'more'),\n",
       " (('no', 15, 'good'), 'less'),\n",
       " (('no', 50, 'poor'), 'more'),\n",
       " (('yes', 33, 'good'), 'more'),\n",
       " (('no', 35, 'good'), 'less'),\n",
       " (('no', 41, 'good'), 'less'),\n",
       " (('yes', 30, 'poor'), 'more'),\n",
       " (('no', 39, 'poor'), 'more'),\n",
       " (('no', 20, 'good'), 'less'),\n",
       " (('yes', 18, 'poor'), 'less'),\n",
       " (('yes', 55, 'good'), 'more')]"
      ]
     },
     "execution_count": 6,
     "metadata": {},
     "output_type": "execute_result"
    }
   ],
   "source": [
    "da = []\n",
    "for line in open('health-train.txt'):\n",
    "  col = line.strip().split(',')\n",
    "  da.append((tuple((col[0],int(col[1]),col[2])),col[-1]))\n",
    "da\n",
    "\n",
    "\n"
   ]
  },
  {
   "cell_type": "code",
   "execution_count": 7,
   "metadata": {},
   "outputs": [
    {
     "name": "stdout",
     "output_type": "stream",
     "text": [
      "[1.2304, 1.01, 0.0324, 1.0144, 2.1296, 1.1024, 2.1444, 0.0016, 1.0064, 1.04, 1.0004, 2.0256, 1.0484, 1.0676, 0.2304]\n"
     ]
    }
   ],
   "source": [
    "def d(a,b):\n",
    "    return (a[0]!=b[0])+((a[1]-b[1])/50.0)**2+(a[2]!=b[2])\n",
    "hdata=[]\n",
    "for n in range(1,len(da)):\n",
    "    hdata.append(tuple(da[n][0]))\n",
    "hdata\n",
    "\n",
    "x = []\n",
    "for component in hdata:\n",
    "    x = x + [d(('yes',31,'good'), component)]\n",
    "print(x)\n",
    "#for i in (1,len(x)):\n",
    " #   if x[i] == min(x): \n",
    "  #  i\n"
   ]
  },
  {
   "cell_type": "code",
   "execution_count": 8,
   "metadata": {},
   "outputs": [
    {
     "data": {
      "text/plain": [
       "0.0016"
      ]
     },
     "execution_count": 8,
     "metadata": {},
     "output_type": "execute_result"
    }
   ],
   "source": [
    "min(x)"
   ]
  },
  {
   "cell_type": "code",
   "execution_count": 9,
   "metadata": {},
   "outputs": [
    {
     "data": {
      "text/plain": [
       "1.01"
      ]
     },
     "execution_count": 9,
     "metadata": {},
     "output_type": "execute_result"
    }
   ],
   "source": [
    "x[1]"
   ]
  },
  {
   "cell_type": "raw",
   "metadata": {
    "collapsed": true
   },
   "source": []
  },
  {
   "cell_type": "code",
   "execution_count": null,
   "metadata": {
    "collapsed": true
   },
   "outputs": [],
   "source": []
  },
  {
   "cell_type": "code",
   "execution_count": null,
   "metadata": {
    "collapsed": true
   },
   "outputs": [],
   "source": []
  },
  {
   "cell_type": "code",
   "execution_count": null,
   "metadata": {
    "collapsed": true
   },
   "outputs": [],
   "source": []
  }
 ],
 "metadata": {
  "kernelspec": {
   "display_name": "Python 3",
   "language": "python",
   "name": "python3"
  },
  "language_info": {
   "codemirror_mode": {
    "name": "ipython",
    "version": 3
   },
   "file_extension": ".py",
   "mimetype": "text/x-python",
   "name": "python",
   "nbconvert_exporter": "python",
   "pygments_lexer": "ipython3",
   "version": "3.6.2"
  }
 },
 "nbformat": 4,
 "nbformat_minor": 2
}
