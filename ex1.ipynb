{
 "cells": [
  {
   "cell_type": "code",
   "execution_count": 3,
   "metadata": {
    "collapsed": true
   },
   "outputs": [],
   "source": [
    "def classify(x):\n",
    "    solutions = ''\n",
    "    if x[0] == 'yes':\n",
    "        if float(x[1])  < 29.5:\n",
    "            solutions = 'less'\n",
    "        elif float(x[1])  > 29.5:\n",
    "            solutions = 'more'\n",
    "    else:\n",
    "        if x[2] == 'good':\n",
    "            solutions = 'less'\n",
    "        elif x[2] == 'poor':\n",
    "            solutions = 'more'\n",
    "    return solutions\n",
    "        \n",
    "        \n",
    "        "
   ]
  },
  {
   "cell_type": "code",
   "execution_count": 9,
   "metadata": {},
   "outputs": [
    {
     "name": "stdout",
     "output_type": "stream",
     "text": [
      "(('yes', 31, 'good'), 'more')\n"
     ]
    }
   ],
   "source": [
    "x= ('yes',  31,  'good') \n",
    "\n",
    "print((x,classify (x)))"
   ]
  },
  {
   "cell_type": "code",
   "execution_count": 15,
   "metadata": {},
   "outputs": [
    {
     "name": "stdout",
     "output_type": "stream",
     "text": [
      "[('yes', '21', 'poor'), ('no', '50', 'good'), ('no', '23', 'good'), ('yes', '45', 'poor'), ('yes', '51', 'good'), ('no', '60', 'good'), ('no', '15', 'poor'), ('no', '18', 'good')]\n"
     ]
    }
   ],
   "source": [
    "data = []\n",
    "for line in open('health-test.txt'):\n",
    "  data.append(tuple(line.strip().split(',')))\n",
    "print(data)"
   ]
  },
  {
   "cell_type": "code",
   "execution_count": 21,
   "metadata": {},
   "outputs": [
    {
     "name": "stdout",
     "output_type": "stream",
     "text": [
      "['less', 'less', 'less', 'more', 'more', 'less', 'more', 'less']\n"
     ]
    }
   ],
   "source": [
    "results = []\n",
    "for x in data:\n",
    "    results = results + [classify(x)]\n",
    "print(results)\n"
   ]
  },
  {
   "cell_type": "code",
   "execution_count": 31,
   "metadata": {},
   "outputs": [
    {
     "data": {
      "text/plain": [
       "0.375"
      ]
     },
     "execution_count": 31,
     "metadata": {},
     "output_type": "execute_result"
    }
   ],
   "source": [
    "count = 0\n",
    "for r in results:\n",
    "    if r == 'more':\n",
    "        count = count + 1\n",
    "count/len(results)\n",
    "    "
   ]
  },
  {
   "cell_type": "code",
   "execution_count": 46,
   "metadata": {},
   "outputs": [
    {
     "data": {
      "text/plain": [
       "[(('yes', '54', 'good', 'less'), 'more'),\n",
       " (('no', '55', 'good', 'less'), 'less'),\n",
       " (('no', '26', 'good', 'less'), 'less'),\n",
       " (('yes', '40', 'good', 'more'), 'more'),\n",
       " (('yes', '25', 'poor', 'less'), 'less'),\n",
       " (('no', '13', 'poor', 'more'), 'more'),\n",
       " (('no', '15', 'good', 'less'), 'less'),\n",
       " (('no', '50', 'poor', 'more'), 'more'),\n",
       " (('yes', '33', 'good', 'more'), 'more'),\n",
       " (('no', '35', 'good', 'less'), 'less'),\n",
       " (('no', '41', 'good', 'less'), 'less'),\n",
       " (('yes', '30', 'poor', 'more'), 'more'),\n",
       " (('no', '39', 'poor', 'more'), 'more'),\n",
       " (('no', '20', 'good', 'less'), 'less'),\n",
       " (('yes', '18', 'poor', 'less'), 'less'),\n",
       " (('yes', '55', 'good', 'more'), 'more')]"
      ]
     },
     "execution_count": 46,
     "metadata": {},
     "output_type": "execute_result"
    }
   ],
   "source": [
    "da = []\n",
    "for line in open('health-train.txt'):\n",
    "  da.append(tuple(line.strip().split(',')))\n",
    "re =[]\n",
    "for x in da:\n",
    "    re = re + [classify(x)]\n",
    "list(zip(da,re))"
   ]
  },
  {
   "cell_type": "code",
   "execution_count": null,
   "metadata": {
    "collapsed": true
   },
   "outputs": [],
   "source": [
    "\n"
   ]
  }
 ],
 "metadata": {
  "kernelspec": {
   "display_name": "Python 3",
   "language": "python",
   "name": "python3"
  },
  "language_info": {
   "codemirror_mode": {
    "name": "ipython",
    "version": 3
   },
   "file_extension": ".py",
   "mimetype": "text/x-python",
   "name": "python",
   "nbconvert_exporter": "python",
   "pygments_lexer": "ipython3",
   "version": "3.6.2"
  }
 },
 "nbformat": 4,
 "nbformat_minor": 2
}
